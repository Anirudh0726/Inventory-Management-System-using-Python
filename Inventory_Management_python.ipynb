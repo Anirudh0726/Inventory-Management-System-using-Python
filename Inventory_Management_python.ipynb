{
 "cells": [
  {
   "cell_type": "code",
   "execution_count": 80,
   "id": "f23f4282-34e5-4fa2-bb55-2b3ef525d3c7",
   "metadata": {},
   "outputs": [],
   "source": [
    "fd= open('C:/Users/Anirudh/OneDrive/Desktop/Data_Analyst/Inventory.txt','w')\n",
    "fd.close()"
   ]
  },
  {
   "cell_type": "markdown",
   "id": "77dd90e4-4e1c-4f58-81b5-ae90fedbe347",
   "metadata": {},
   "source": [
    "## Product Details          \n",
    "1. Product ID\n",
    "2. Product Name\n",
    "3. Price of the product\n",
    "4. Quantity\n",
    "5. "
   ]
  },
  {
   "cell_type": "markdown",
   "id": "547ff9d6-a28a-444a-98b2-9b0b4a3f0c7e",
   "metadata": {},
   "source": [
    "\n",
    "## Reading the file\n"
   ]
  },
  {
   "cell_type": "code",
   "execution_count": 84,
   "id": "b27dd87a-b116-4564-95ca-14cc19915cd5",
   "metadata": {},
   "outputs": [
    {
     "name": "stdout",
     "output_type": "stream",
     "text": [
      "<built-in method read of _io.TextIOWrapper object at 0x000001C04DDF02E0>\n"
     ]
    }
   ],
   "source": [
    "fd= open('C:/Users/Anirudh/OneDrive/Desktop/Data_Analyst/Inventory.txt','r')\n",
    "txt= fd.read\n",
    "print(txt)\n",
    "fd.close()"
   ]
  },
  {
   "cell_type": "markdown",
   "id": "d82ce474-034a-4b38-950b-f72dd18e3a36",
   "metadata": {},
   "source": [
    "## Displaying the list of items in the file\n"
   ]
  },
  {
   "cell_type": "code",
   "execution_count": 86,
   "id": "d2723fe7-3f93-4498-9307-7a84816ae4ee",
   "metadata": {},
   "outputs": [
    {
     "name": "stdout",
     "output_type": "stream",
     "text": [
      "1, Chocolate,10,7000\n",
      "2, Milkybar,50,7884\n",
      "3, Chocobar,65,900\n",
      "4, Silk,76,5588\n",
      "\n"
     ]
    }
   ],
   "source": [
    "with open('C:/Users/Anirudh/OneDrive/Desktop/Data_Analyst/Inventory.txt', 'r') as fd:\n",
    "    txt = fd.read()\n",
    "    print(txt)"
   ]
  },
  {
   "cell_type": "code",
   "execution_count": 27,
   "id": "c42851b5-db42-4392-a5f4-defd95c23dd2",
   "metadata": {},
   "outputs": [
    {
     "data": {
      "text/plain": [
       "'1, Chocolate,10,7000\\n2, Milkybar,50,8200\\n3, Chocobar,65,900\\n4, Silk,76,5600'"
      ]
     },
     "execution_count": 27,
     "metadata": {},
     "output_type": "execute_result"
    }
   ],
   "source": [
    "txt"
   ]
  },
  {
   "cell_type": "code",
   "execution_count": 88,
   "id": "2b7f6044-2311-4f47-baef-f3a566f8315e",
   "metadata": {},
   "outputs": [],
   "source": [
    "fd = open('C:/Users/Anirudh/OneDrive/Desktop/Data_Analyst/Inventory.txt', 'r')\n",
    "products = fd.read().split('\\n')\n",
    "fd.close()"
   ]
  },
  {
   "cell_type": "code",
   "execution_count": 90,
   "id": "bbb20b6f-d717-4da5-a05c-88540636711b",
   "metadata": {},
   "outputs": [
    {
     "name": "stdout",
     "output_type": "stream",
     "text": [
      "1, Chocolate,10,7000\n",
      "['1', ' Chocolate', '10', '7000']\n",
      "2, Milkybar,50,7884\n",
      "['2', ' Milkybar', '50', '7884']\n",
      "3, Chocobar,65,900\n",
      "['3', ' Chocobar', '65', '900']\n",
      "4, Silk,76,5588\n",
      "['4', ' Silk', '76', '5588']\n",
      "\n",
      "['']\n"
     ]
    }
   ],
   "source": [
    "for product in products:\n",
    "    print(product)\n",
    "    print (product.split(','))"
   ]
  },
  {
   "cell_type": "code",
   "execution_count": 92,
   "id": "9dd9c6ff-d42e-46a4-8d7a-ebd8ba9aecee",
   "metadata": {},
   "outputs": [
    {
     "name": "stdin",
     "output_type": "stream",
     "text": [
      "Enter the Product ID 2\n"
     ]
    },
    {
     "name": "stdout",
     "output_type": "stream",
     "text": [
      "2, Milkybar,50,7884\n"
     ]
    }
   ],
   "source": [
    "ui_prod_id=input(\"Enter the Product ID\")\n",
    "for product in products:\n",
    "    if (product.split(',')[0] == ui_prod_id):\n",
    "        print(product)"
   ]
  },
  {
   "cell_type": "markdown",
   "id": "216a05cd-6a34-4c27-8871-2869224be762",
   "metadata": {},
   "source": [
    "## To get the exact timestamp we are importing Time'\n"
   ]
  },
  {
   "cell_type": "code",
   "execution_count": 120,
   "id": "12bc9829-af92-4883-b4e6-49796c1c0c12",
   "metadata": {},
   "outputs": [],
   "source": [
    "import time"
   ]
  },
  {
   "cell_type": "markdown",
   "id": "4115f32d-08bd-4dbf-9379-51cc102fc14a",
   "metadata": {},
   "source": [
    "## Running the Inventory Management System"
   ]
  },
  {
   "cell_type": "code",
   "execution_count": 146,
   "id": "64ed4ade-f857-46d8-b220-9799a785bf54",
   "metadata": {
    "scrolled": true
   },
   "outputs": [
    {
     "name": "stdin",
     "output_type": "stream",
     "text": [
      "Enter your Name:  Anirudh\n",
      "Enter your Phone No:  9483864579\n",
      "Enter your Mail:  anirudhrajan119@gmail.com\n",
      "Enter product ID:  4\n",
      "Enter product Quantity:  23\n"
     ]
    },
    {
     "ename": "IndexError",
     "evalue": "list index out of range",
     "output_type": "error",
     "traceback": [
      "\u001b[1;31m---------------------------------------------------------------------------\u001b[0m",
      "\u001b[1;31mIndexError\u001b[0m                                Traceback (most recent call last)",
      "Cell \u001b[1;32mIn[146], line 84\u001b[0m\n\u001b[0;32m     82\u001b[0m \u001b[38;5;66;03m# Updating my Inventory String\u001b[39;00m\n\u001b[0;32m     83\u001b[0m \u001b[38;5;28;01mfor\u001b[39;00m i \u001b[38;5;129;01min\u001b[39;00m updated_product_lst:\n\u001b[1;32m---> 84\u001b[0m     prod \u001b[38;5;241m=\u001b[39m i[\u001b[38;5;241m0\u001b[39m] \u001b[38;5;241m+\u001b[39m\u001b[38;5;124m\"\u001b[39m\u001b[38;5;124m,\u001b[39m\u001b[38;5;124m\"\u001b[39m\u001b[38;5;241m+\u001b[39m  i[\u001b[38;5;241m1\u001b[39m] \u001b[38;5;241m+\u001b[39m\u001b[38;5;124m\"\u001b[39m\u001b[38;5;124m,\u001b[39m\u001b[38;5;124m\"\u001b[39m\u001b[38;5;241m+\u001b[39m i[\u001b[38;5;241m2\u001b[39m] \u001b[38;5;241m+\u001b[39m\u001b[38;5;124m\"\u001b[39m\u001b[38;5;124m,\u001b[39m\u001b[38;5;124m\"\u001b[39m\u001b[38;5;241m+\u001b[39m i[\u001b[38;5;241m3\u001b[39m] \u001b[38;5;241m+\u001b[39m \u001b[38;5;124m'\u001b[39m\u001b[38;5;130;01m\\n\u001b[39;00m\u001b[38;5;124m'\u001b[39m\n\u001b[0;32m     85\u001b[0m     lst\u001b[38;5;241m.\u001b[39mappend(prod)\n\u001b[0;32m     87\u001b[0m \u001b[38;5;66;03m# Removing Last \\n from the list\u001b[39;00m\n",
      "\u001b[1;31mIndexError\u001b[0m: list index out of range"
     ]
    }
   ],
   "source": [
    "import time\n",
    "\n",
    "# Reading the Inventory\n",
    "fd = open('C:/Users/Anirudh/OneDrive/Desktop/Data_Analyst/Inventory.txt','r')  \n",
    "products = fd.read().split('\\n')\n",
    "fd.close()\n",
    "\n",
    "# Taking User Input\n",
    "ui_username = input(\"Enter your Name: \")\n",
    "ui_phone    = input(\"Enter your Phone No: \")\n",
    "ui_mail     = input(\"Enter your Mail: \")\n",
    "ui_prod_id  = input(\"Enter product ID: \")\n",
    "ui_prod_qn  = input(\"Enter product Quantity: \")\n",
    "\n",
    "updated_product_lst = []\n",
    "\n",
    "# Going through each product detail\n",
    "for product in products:\n",
    "    prod_details = product.split(',')\n",
    "    if(prod_details[0] == ui_prod_id):\n",
    "    # Checking if product exists or not\n",
    "\n",
    "        if (int(ui_prod_qn) <= int(prod_details[3])):\n",
    "        # If we're having enough quantity\n",
    "        \n",
    "            print(\"-----------------------------\")\n",
    "            print(\"Product Name     : \", prod_details[1])\n",
    "            print(\"Price            : \", prod_details[2]) \n",
    "            print(\"Quantity         : \", ui_prod_qn) \n",
    "            print(\"-----------------------------\")\n",
    "            print(\"Billing Amount   : \", int(ui_prod_qn) * int(prod_details[2]))\n",
    "            print(\"-----------------------------\")\n",
    "\n",
    "            # Updating Inventory list\n",
    "            prod_details[3] = str(int(prod_details[3]) - int(ui_prod_qn))\n",
    "            \n",
    "            # Generating Sales in Sales.txt\n",
    "            fd = open('C:/Users/Anirudh/OneDrive/Desktop/Data_Analyst/Sales.txt','a')\n",
    "            sales_detail = ui_username +\",\"+ ui_phone +\",\"+ ui_mail +\",\"+prod_details[1] +\",\"+ ui_prod_id +\",\"+ ui_prod_qn +\",\"+ str(int(ui_prod_qn) * int(prod_details[2]))+\",\"+time.ctime()+ \"\\n\"\n",
    "            fd.write(sales_detail)\n",
    "            fd.close()\n",
    "            \n",
    "        else:\n",
    "        # If we're not having enough quantity\n",
    "        \n",
    "            print(\"Sorry, We're not having enought quantity.\")\n",
    "            print(\"We're having only\",prod_details[3],'quantity.')\n",
    "            print(\"Would you like to purchase it?\")\n",
    "            \n",
    "            ch = input(\"Press Y/N: \")\n",
    "            \n",
    "            if (ch == 'Y' or ch == 'y'):\n",
    "            # If you want to purchase with remaining quantity\n",
    "            \n",
    "                print(\"-----------------------------\")\n",
    "                print(\"Product Name     : \", prod_details[1])\n",
    "                print(\"Price            : \", prod_details[2]) \n",
    "                print(\"Quantity         : \", prod_details[3]) \n",
    "                print(\"-----------------------------\")\n",
    "                print(\"Billing Amount   : \", int(prod_details[3]) * int(prod_details[2]))\n",
    "                print(\"-----------------------------\")\n",
    "                \n",
    "                # Generating Sales in Sales.txt\n",
    "                fd = open('C:/Users/Anirudh/OneDrive/Desktop/Data_Analyst/Sales.txt','a')\n",
    "                sales_detail = ui_username +\",\"+ ui_phone +\",\"+ ui_mail +\",\"+prod_details[1] +\",\"+ ui_prod_id +\",\"+ prod_details[3] +\",\"+ str(int(prod_details[3]) * int(prod_details[2]))+\",\"+time.ctime()+ \"\\n\"\n",
    "                fd.write(sales_detail)\n",
    "                fd.close()\n",
    "                \n",
    "                # Updating Inventory list\n",
    "                prod_details[3] = '0'\n",
    "\n",
    "            else:\n",
    "                print(\"Thanks\")\n",
    "            \n",
    "    # Updating my Inventory List\n",
    "    updated_product_lst.append(prod_details)\n",
    "    \n",
    "\n",
    "    \n",
    "lst = []\n",
    "\n",
    "# Updating my Inventory String\n",
    "for i in updated_product_lst:\n",
    "    prod = i[0] +\",\"+  i[1] +\",\"+ i[2] +\",\"+ i[3] + '\\n'\n",
    "    lst.append(prod)\n",
    "\n",
    "# Removing Last \\n from the list\n",
    "lst[-1] = lst[-1][:-1]\n",
    "    \n",
    "\n",
    "# Updating Inventory File\n",
    "fd = open('C:/Users/Anirudh/OneDrive/Desktop/Data_Analyst/Inventory.txt','w')\n",
    "\n",
    "for i in lst:\n",
    "    fd.write(i)\n",
    "fd.close()\n",
    "\n",
    "print(\"Inventory Updated\")"
   ]
  },
  {
   "cell_type": "code",
   "execution_count": 30,
   "id": "1e4a90cc-b379-4aea-a0ef-be8a44949c1f",
   "metadata": {},
   "outputs": [],
   "source": []
  },
  {
   "cell_type": "code",
   "execution_count": null,
   "id": "91eb7793-7627-4e4d-866d-c01c8857a2e2",
   "metadata": {},
   "outputs": [],
   "source": []
  }
 ],
 "metadata": {
  "kernelspec": {
   "display_name": "Python 3 (ipykernel)",
   "language": "python",
   "name": "python3"
  },
  "language_info": {
   "codemirror_mode": {
    "name": "ipython",
    "version": 3
   },
   "file_extension": ".py",
   "mimetype": "text/x-python",
   "name": "python",
   "nbconvert_exporter": "python",
   "pygments_lexer": "ipython3",
   "version": "3.12.4"
  }
 },
 "nbformat": 4,
 "nbformat_minor": 5
}
