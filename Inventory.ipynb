{
 "cells": [
  {
   "cell_type": "code",
   "execution_count": 1,
   "id": "f23f4282-34e5-4fa2-bb55-2b3ef525d3c7",
   "metadata": {},
   "outputs": [],
   "source": [
    "fd= open('C:/Users/Anirudh/OneDrive/Desktop/Data_Analyst/Inventory.txt','w')\n",
    "fd.close()"
   ]
  },
  {
   "cell_type": "code",
   "execution_count": null,
   "id": "f65de166-786e-4e5a-afdb-be413506ab8b",
   "metadata": {},
   "outputs": [],
   "source": [
    "## Product Details \n",
    "1. Product ID\n",
    "2. Product Name\n",
    "3. Price of the product\n",
    "4. Quantity"
   ]
  },
  {
   "cell_type": "code",
   "execution_count": 16,
   "id": "b27dd87a-b116-4564-95ca-14cc19915cd5",
   "metadata": {},
   "outputs": [
    {
     "name": "stdout",
     "output_type": "stream",
     "text": [
      "<built-in method read of _io.TextIOWrapper object at 0x0000016A803F5460>\n"
     ]
    }
   ],
   "source": [
    "fd= open('C:/Users/Anirudh/OneDrive/Desktop/Data_Analyst/Inventory.txt','r')\n",
    "txt= fd.read\n",
    "print(txt)\n",
    "fd.close()"
   ]
  },
  {
   "cell_type": "code",
   "execution_count": 29,
   "id": "d2723fe7-3f93-4498-9307-7a84816ae4ee",
   "metadata": {},
   "outputs": [
    {
     "name": "stdout",
     "output_type": "stream",
     "text": [
      "1, Chocolate,10,7000\n",
      "2, Milkybar,50,8200\n",
      "3, Chocobar,65,900\n",
      "4, Silk,76,5600\n"
     ]
    }
   ],
   "source": [
    "with open('C:/Users/Anirudh/OneDrive/Desktop/Data_Analyst/Inventory.txt', 'r') as fd:\n",
    "    txt = fd.read()\n",
    "    print(txt)"
   ]
  },
  {
   "cell_type": "code",
   "execution_count": 27,
   "id": "c42851b5-db42-4392-a5f4-defd95c23dd2",
   "metadata": {},
   "outputs": [
    {
     "data": {
      "text/plain": [
       "'1, Chocolate,10,7000\\n2, Milkybar,50,8200\\n3, Chocobar,65,900\\n4, Silk,76,5600'"
      ]
     },
     "execution_count": 27,
     "metadata": {},
     "output_type": "execute_result"
    }
   ],
   "source": [
    "txt"
   ]
  },
  {
   "cell_type": "code",
   "execution_count": 39,
   "id": "2b7f6044-2311-4f47-baef-f3a566f8315e",
   "metadata": {},
   "outputs": [],
   "source": [
    "fd = open('C:/Users/Anirudh/OneDrive/Desktop/Data_Analyst/Inventory.txt', 'r')\n",
    "products = fd.read().split('\\n')\n",
    "fd.close()"
   ]
  },
  {
   "cell_type": "code",
   "execution_count": 59,
   "id": "bbb20b6f-d717-4da5-a05c-88540636711b",
   "metadata": {},
   "outputs": [
    {
     "name": "stdout",
     "output_type": "stream",
     "text": [
      "1, Chocolate,10,7000\n",
      "['1', ' Chocolate', '10', '7000']\n",
      "2, Milkybar,50,8200\n",
      "['2', ' Milkybar', '50', '8200']\n",
      "3, Chocobar,65,900\n",
      "['3', ' Chocobar', '65', '900']\n",
      "4, Silk,76,5600\n",
      "['4', ' Silk', '76', '5600']\n"
     ]
    }
   ],
   "source": [
    "for product in products:\n",
    "    print(product)\n",
    "    print (product.split(','))"
   ]
  },
  {
   "cell_type": "code",
   "execution_count": 69,
   "id": "9dd9c6ff-d42e-46a4-8d7a-ebd8ba9aecee",
   "metadata": {},
   "outputs": [
    {
     "name": "stdin",
     "output_type": "stream",
     "text": [
      "Enter the Product ID 3\n"
     ]
    },
    {
     "name": "stdout",
     "output_type": "stream",
     "text": [
      "3, Chocobar,65,900\n"
     ]
    }
   ],
   "source": [
    "ui_prod_id=input(\"Enter the Product ID\")\n",
    "for product in products:\n",
    "    if (product.split(',')[0] == ui_prod_id):\n",
    "        print(product)"
   ]
  },
  {
   "cell_type": "code",
   "execution_count": 75,
   "id": "64ed4ade-f857-46d8-b220-9799a785bf54",
   "metadata": {},
   "outputs": [
    {
     "name": "stdin",
     "output_type": "stream",
     "text": [
      "Enter the Product ID 2\n",
      "Enter the quantity:  7\n"
     ]
    },
    {
     "name": "stdout",
     "output_type": "stream",
     "text": [
      "-----------------------\n",
      "Product Name:  Milkybar\n",
      "Price: 50\n",
      "Quantity: 7\n",
      "---------------------------------\n",
      "Billing Amount: 350\n",
      "-----------------------\n"
     ]
    }
   ],
   "source": [
    "ui_prod_id=input(\"Enter the Product ID\")\n",
    "ui_prod_qn=input(\"Enter the quantity: \")\n",
    "for product in products:\n",
    "    prod_details=product.split(',')\n",
    "    if (prod_details[0]==ui_prod_id):\n",
    "        print(\"-----------------------\")\n",
    "        print(\"Product Name:\",prod_details[1])\n",
    "        print(\"Price:\"         ,prod_details[2])\n",
    "        print(\"Quantity:\"      ,ui_prod_qn)\n",
    "        print(\"---------------------------------\")\n",
    "        print(\"Billing Amount:\",int(ui_prod_qn) * int(prod_details[2]))\n",
    "        print(\"-----------------------\")\n",
    "              \n"
   ]
  },
  {
   "cell_type": "code",
   "execution_count": null,
   "id": "1e4a90cc-b379-4aea-a0ef-be8a44949c1f",
   "metadata": {},
   "outputs": [],
   "source": []
  }
 ],
 "metadata": {
  "kernelspec": {
   "display_name": "Python 3 (ipykernel)",
   "language": "python",
   "name": "python3"
  },
  "language_info": {
   "codemirror_mode": {
    "name": "ipython",
    "version": 3
   },
   "file_extension": ".py",
   "mimetype": "text/x-python",
   "name": "python",
   "nbconvert_exporter": "python",
   "pygments_lexer": "ipython3",
   "version": "3.12.4"
  }
 },
 "nbformat": 4,
 "nbformat_minor": 5
}
